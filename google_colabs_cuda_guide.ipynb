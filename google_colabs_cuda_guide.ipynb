{
  "nbformat": 4,
  "nbformat_minor": 0,
  "metadata": {
    "colab": {
      "name": "google-colabs-cuda-guide",
      "private_outputs": true,
      "provenance": [],
      "collapsed_sections": [],
      "authorship_tag": "ABX9TyNkm/8eoKeBirc80POwayaY",
      "include_colab_link": true
    },
    "kernelspec": {
      "name": "python3",
      "display_name": "Python 3"
    },
    "language_info": {
      "name": "python"
    },
    "accelerator": "GPU"
  },
  "cells": [
    {
      "cell_type": "markdown",
      "metadata": {
        "id": "view-in-github",
        "colab_type": "text"
      },
      "source": [
        "<a href=\"https://colab.research.google.com/github/chasays/learn_cpp/blob/main/google_colabs_cuda_guide.ipynb\" target=\"_parent\"><img src=\"https://colab.research.google.com/assets/colab-badge.svg\" alt=\"Open In Colab\"/></a>"
      ]
    },
    {
      "cell_type": "code",
      "execution_count": null,
      "metadata": {
        "id": "OgVL0yZvHOgQ"
      },
      "outputs": [],
      "source": [
        "!nvcc -V"
      ]
    },
    {
      "cell_type": "code",
      "source": [
        "!pip install git+https://github.com/andreinechaev/nvcc4jupyter.git\n",
        "%load_ext nvcc_plugin\n"
      ],
      "metadata": {
        "id": "lelOM_2MI8qr"
      },
      "execution_count": null,
      "outputs": []
    },
    {
      "cell_type": "code",
      "source": [
        "%%cu\n",
        "#include <iostream>\n",
        "#include <string>\n",
        "int main()\n",
        "{\n",
        "    std::cout << \"hello world\";\n",
        "    return 0;\n",
        "}"
      ],
      "metadata": {
        "id": "xU17N3OcJ7qv"
      },
      "execution_count": null,
      "outputs": []
    },
    {
      "cell_type": "code",
      "source": [
        "%%cu\n",
        "#include <cstdio>\n",
        "#include <iostream>\n",
        "using namespace std;\n",
        "\n",
        "__global__ void maxi(int* a, int* b, int n)\n",
        "{\n",
        "\tint block = 256 * blockIdx.x;\n",
        "\tint max = 0;\n",
        "\tfor (int i = block; i < min(256 + block, n); i++) {\n",
        "\n",
        "\t\tif (max < a[i]) {\n",
        "\t\t\tmax = a[i];\n",
        "\t\t}\n",
        "\t}\n",
        "\tb[blockIdx.x] = max;\n",
        "}\n",
        "\n",
        "int main()\n",
        "{\n",
        "\tint n;\n",
        "\tn = 3 >> 2;\n",
        "\tint a[n];\n",
        "\n",
        "\tfor (int i = 0; i < n; i++) {\n",
        "\t\ta[i] = rand() % n;\n",
        "\t\tcout << a[i] << \"\\t\";\n",
        "\t}\n",
        "\n",
        "\tcudaEvent_t start, end;\n",
        "\tint *ad, *bd;\n",
        "\tint size = n * sizeof(int);\n",
        "\tcudaMalloc(&ad, size);\n",
        "\tcudaMemcpy(ad, a, size, cudaMemcpyHostToDevice);\n",
        "\tint grids = ceil(n * 1.0f / 256.0f);\n",
        "\tcudaMalloc(&bd, grids * sizeof(int));\n",
        "\n",
        "\tdim3 grid(grids, 1);\n",
        "\tdim3 block(1, 1);\n",
        "\n",
        "\tcudaEventCreate(&start);\n",
        "\tcudaEventCreate(&end);\n",
        "\tcudaEventRecord(start);\n",
        "\n",
        "\twhile (n > 1) {\n",
        "\t\tmaxi<<<grids, block>>>(ad, bd, n);\n",
        "\t\tn = ceil(n * 1.0f / 256.0f);\n",
        "\t\tcudaMemcpy(ad, bd, n * sizeof(int), cudaMemcpyDeviceToDevice);\n",
        "\t}\n",
        "\n",
        "\tcudaEventRecord(end);\n",
        "\tcudaEventSynchronize(end);\n",
        "\n",
        "\tfloat time = 0;\n",
        "\tcudaEventElapsedTime(&time, start, end);\n",
        "\n",
        "\tint ans[2];\n",
        "\tcudaMemcpy(ans, ad, 4, cudaMemcpyDeviceToHost);\n",
        "\n",
        "\tcout << \"The maximum element is : \" << ans[0] << endl;\n",
        "\n",
        "\tcout << \"The time required : \";\n",
        "\tcout << time << endl;\n",
        "}\n"
      ],
      "metadata": {
        "id": "HWWPbKBQNGU7"
      },
      "execution_count": null,
      "outputs": []
    },
    {
      "cell_type": "code",
      "source": [
        "%%cu\n",
        "#include <stdio.h>\n",
        "\n",
        "__global__ void helloCUDA(float f)\n",
        "{   \n",
        "    printf(\"Thread %d, blockIdx %d, blockDim %d, gridDim %d\\n\", threadIdx.x, blockIdx.x, blockDim.x, gridDim.x);\n",
        "    // printf(\"Hello thread %d, f=%f\\n\", threadIdx.x, f);\n",
        "}\n",
        "\n",
        "int main()\n",
        "{\n",
        "    helloCUDA<<<2, 1>>>(1.2345f);\n",
        "    cudaDeviceSynchronize();\n",
        "    return 0;\n",
        "}"
      ],
      "metadata": {
        "id": "-z1A1RRoMUi0"
      },
      "execution_count": null,
      "outputs": []
    },
    {
      "cell_type": "code",
      "source": [
        "%%cu\n",
        "#include <stdio.h>\n",
        "#include <stdlib.h>\n",
        "#include <math.h>\n",
        "#include <assert.h>\n",
        "#include <cuda.h>\n",
        "#include <cuda_runtime.h>\n",
        "\n",
        "#define N 10000000\n",
        "#define MAX_ERR 1e-6\n",
        "\n",
        "__global__ void vector_add(float *out, float *a, float *b, int n)\n",
        "{    \n",
        "    printf(\"threadIdx:%d\", threadIdx.x);\n",
        "    for (int i = 0; i < n; i++)\n",
        "    {\n",
        "        out[i] = a[i] + b[i];\n",
        "    }\n",
        "}\n",
        "\n",
        "int main()\n",
        "{\n",
        "    float *a, *b, *out;\n",
        "    float *d_a, *d_b, *d_out;\n",
        "\n",
        "    // Allocate host memory\n",
        "    a = (float *)malloc(sizeof(float) * N);\n",
        "    b = (float *)malloc(sizeof(float) * N);\n",
        "    out = (float *)malloc(sizeof(float) * N);\n",
        "\n",
        "    // Initialize host arrays\n",
        "    for (int i = 0; i < N; i++)\n",
        "    {\n",
        "        a[i] = 1.0f;\n",
        "        b[i] = 2.0f;\n",
        "    }\n",
        "\n",
        "    // Allocate device memory\n",
        "    cudaMalloc((void **)&d_a, sizeof(float) * N);\n",
        "    cudaMalloc((void **)&d_b, sizeof(float) * N);\n",
        "    cudaMalloc((void **)&d_out, sizeof(float) * N);\n",
        "\n",
        "    // Transfer data from host to device memory\n",
        "    cudaMemcpy(d_a, a, sizeof(float) * N, cudaMemcpyHostToDevice);\n",
        "    cudaMemcpy(d_b, b, sizeof(float) * N, cudaMemcpyHostToDevice);\n",
        "\n",
        "    // Executing kernel\n",
        "    cudaEvent_t start, end;\n",
        "    cudaEventCreate(&start);\n",
        "\t  cudaEventCreate(&end);\n",
        "\t  cudaEventRecord(start);\n",
        "    vector_add<<<, 1024>>>(d_out, d_a, d_b, N);\n",
        " \n",
        "    cudaEventRecord(end);\n",
        "\t  cudaEventSynchronize(end);\n",
        "    float time = 0;\n",
        "\t  cudaEventElapsedTime(&time, start, end);\n",
        "    printf(\"elapsed time:%f\\n\", time);\n",
        "\n",
        "    // Transfer data back to host memory\n",
        "    cudaMemcpy(out, d_out, sizeof(float) * N, cudaMemcpyDeviceToHost);\n",
        "\n",
        "    // Verification\n",
        "    for (int i = 0; i < N; i++)\n",
        "    {\n",
        "        assert(fabs(out[i] - a[i] - b[i]) < MAX_ERR);\n",
        "    }\n",
        "    printf(\"out[0] = %f\\n\", out[0]);\n",
        "    printf(\"PASSED\\n\");\n",
        "\n",
        "    // Deallocate device memory\n",
        "    cudaFree(d_a);\n",
        "    cudaFree(d_b);\n",
        "    cudaFree(d_out);\n",
        "\n",
        "    // Deallocate host memory\n",
        "    free(a);\n",
        "    free(b);\n",
        "    free(out);\n",
        "}\n"
      ],
      "metadata": {
        "id": "LfEL7C8ANxi8"
      },
      "execution_count": null,
      "outputs": []
    }
  ]
}